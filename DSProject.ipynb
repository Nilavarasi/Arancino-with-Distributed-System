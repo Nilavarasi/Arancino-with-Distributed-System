{
  "cells": [
    {
      "metadata": {
        "_uuid": "8fe3322eb2c5c627db9d20db1f1641040c7a2fb9",
        "id": "x_7Jvt1MTXQS"
      },
      "cell_type": "markdown",
      "source": [
        "**1. Importing libraries and reading data**"
      ]
    },
    {
      "metadata": {
        "_cell_guid": "79c7e3d0-c299-4dcb-8224-4455121ee9b0",
        "_uuid": "d629ff2d2480ee46fbb7e2d37f6b5fab8052498a",
        "trusted": true,
        "scrolled": true,
        "id": "pDgJz1q-TXQS"
      },
      "cell_type": "code",
      "source": [
        "#import all essential libraries\n",
        "import sys \n",
        "import numpy as np # linear algebra\n",
        "from scipy.stats import randint\n",
        "import pandas as pd # data processing, CSV file I/O (e.g. pd.read_csv), data manipulation as in SQL\n",
        "import matplotlib.pyplot as plt # this is used for the plot the graph \n",
        "import seaborn as sns # used for plot interactive graph. \n",
        "from sklearn.metrics import mean_squared_error,r2_score\n",
        "## Deep-learing:\n",
        "import keras\n",
        "from keras.layers import Dense\n",
        "from keras.models import Sequential\n",
        "from tensorflow.keras.optimizers import SGD\n",
        "from keras.callbacks import EarlyStopping\n",
        "from keras.utils import np_utils\n",
        "import itertools\n",
        "from keras.layers import LSTM\n",
        "from keras.layers import Dropout"
      ],
      "execution_count": 1,
      "outputs": []
    },
    {
      "cell_type": "code",
      "source": [
        "from google.colab import drive\n",
        "drive.mount('/content/drive/')\n",
        "%cd /content/drive/My Drive/DSProject/"
      ],
      "metadata": {
        "colab": {
          "base_uri": "https://localhost:8080/"
        },
        "id": "rT-JKv1MTr8x",
        "outputId": "a6283b95-52ef-4a10-ae12-1fb007822484"
      },
      "execution_count": 2,
      "outputs": [
        {
          "output_type": "stream",
          "name": "stdout",
          "text": [
            "Mounted at /content/drive/\n",
            "/content/drive/My Drive/DSProject\n"
          ]
        }
      ]
    },
    {
      "cell_type": "code",
      "source": [
        "data = pd.read_csv('b.csv', infer_datetime_format=True, \n",
        "                 low_memory=False, na_values=['nan','?'])\n",
        "data.head(5)"
      ],
      "metadata": {
        "colab": {
          "base_uri": "https://localhost:8080/",
          "height": 206
        },
        "id": "JD6H6VMaUVrm",
        "outputId": "846c59cb-3301-4b2c-a4f7-c0a80fd1e724"
      },
      "execution_count": 3,
      "outputs": [
        {
          "output_type": "execute_result",
          "data": {
            "text/plain": [
              "              time  sensor_data\n",
              "0  08-12-2018 9:30           29\n",
              "1  08-12-2018 9:30           29\n",
              "2  08-12-2018 9:29           41\n",
              "3  08-12-2018 9:29           41\n",
              "4  08-12-2018 9:29           31"
            ],
            "text/html": [
              "\n",
              "  <div id=\"df-2da667c7-4420-467e-ac16-338b393cd421\">\n",
              "    <div class=\"colab-df-container\">\n",
              "      <div>\n",
              "<style scoped>\n",
              "    .dataframe tbody tr th:only-of-type {\n",
              "        vertical-align: middle;\n",
              "    }\n",
              "\n",
              "    .dataframe tbody tr th {\n",
              "        vertical-align: top;\n",
              "    }\n",
              "\n",
              "    .dataframe thead th {\n",
              "        text-align: right;\n",
              "    }\n",
              "</style>\n",
              "<table border=\"1\" class=\"dataframe\">\n",
              "  <thead>\n",
              "    <tr style=\"text-align: right;\">\n",
              "      <th></th>\n",
              "      <th>time</th>\n",
              "      <th>sensor_data</th>\n",
              "    </tr>\n",
              "  </thead>\n",
              "  <tbody>\n",
              "    <tr>\n",
              "      <th>0</th>\n",
              "      <td>08-12-2018 9:30</td>\n",
              "      <td>29</td>\n",
              "    </tr>\n",
              "    <tr>\n",
              "      <th>1</th>\n",
              "      <td>08-12-2018 9:30</td>\n",
              "      <td>29</td>\n",
              "    </tr>\n",
              "    <tr>\n",
              "      <th>2</th>\n",
              "      <td>08-12-2018 9:29</td>\n",
              "      <td>41</td>\n",
              "    </tr>\n",
              "    <tr>\n",
              "      <th>3</th>\n",
              "      <td>08-12-2018 9:29</td>\n",
              "      <td>41</td>\n",
              "    </tr>\n",
              "    <tr>\n",
              "      <th>4</th>\n",
              "      <td>08-12-2018 9:29</td>\n",
              "      <td>31</td>\n",
              "    </tr>\n",
              "  </tbody>\n",
              "</table>\n",
              "</div>\n",
              "      <button class=\"colab-df-convert\" onclick=\"convertToInteractive('df-2da667c7-4420-467e-ac16-338b393cd421')\"\n",
              "              title=\"Convert this dataframe to an interactive table.\"\n",
              "              style=\"display:none;\">\n",
              "        \n",
              "  <svg xmlns=\"http://www.w3.org/2000/svg\" height=\"24px\"viewBox=\"0 0 24 24\"\n",
              "       width=\"24px\">\n",
              "    <path d=\"M0 0h24v24H0V0z\" fill=\"none\"/>\n",
              "    <path d=\"M18.56 5.44l.94 2.06.94-2.06 2.06-.94-2.06-.94-.94-2.06-.94 2.06-2.06.94zm-11 1L8.5 8.5l.94-2.06 2.06-.94-2.06-.94L8.5 2.5l-.94 2.06-2.06.94zm10 10l.94 2.06.94-2.06 2.06-.94-2.06-.94-.94-2.06-.94 2.06-2.06.94z\"/><path d=\"M17.41 7.96l-1.37-1.37c-.4-.4-.92-.59-1.43-.59-.52 0-1.04.2-1.43.59L10.3 9.45l-7.72 7.72c-.78.78-.78 2.05 0 2.83L4 21.41c.39.39.9.59 1.41.59.51 0 1.02-.2 1.41-.59l7.78-7.78 2.81-2.81c.8-.78.8-2.07 0-2.86zM5.41 20L4 18.59l7.72-7.72 1.47 1.35L5.41 20z\"/>\n",
              "  </svg>\n",
              "      </button>\n",
              "      \n",
              "  <style>\n",
              "    .colab-df-container {\n",
              "      display:flex;\n",
              "      flex-wrap:wrap;\n",
              "      gap: 12px;\n",
              "    }\n",
              "\n",
              "    .colab-df-convert {\n",
              "      background-color: #E8F0FE;\n",
              "      border: none;\n",
              "      border-radius: 50%;\n",
              "      cursor: pointer;\n",
              "      display: none;\n",
              "      fill: #1967D2;\n",
              "      height: 32px;\n",
              "      padding: 0 0 0 0;\n",
              "      width: 32px;\n",
              "    }\n",
              "\n",
              "    .colab-df-convert:hover {\n",
              "      background-color: #E2EBFA;\n",
              "      box-shadow: 0px 1px 2px rgba(60, 64, 67, 0.3), 0px 1px 3px 1px rgba(60, 64, 67, 0.15);\n",
              "      fill: #174EA6;\n",
              "    }\n",
              "\n",
              "    [theme=dark] .colab-df-convert {\n",
              "      background-color: #3B4455;\n",
              "      fill: #D2E3FC;\n",
              "    }\n",
              "\n",
              "    [theme=dark] .colab-df-convert:hover {\n",
              "      background-color: #434B5C;\n",
              "      box-shadow: 0px 1px 3px 1px rgba(0, 0, 0, 0.15);\n",
              "      filter: drop-shadow(0px 1px 2px rgba(0, 0, 0, 0.3));\n",
              "      fill: #FFFFFF;\n",
              "    }\n",
              "  </style>\n",
              "\n",
              "      <script>\n",
              "        const buttonEl =\n",
              "          document.querySelector('#df-2da667c7-4420-467e-ac16-338b393cd421 button.colab-df-convert');\n",
              "        buttonEl.style.display =\n",
              "          google.colab.kernel.accessAllowed ? 'block' : 'none';\n",
              "\n",
              "        async function convertToInteractive(key) {\n",
              "          const element = document.querySelector('#df-2da667c7-4420-467e-ac16-338b393cd421');\n",
              "          const dataTable =\n",
              "            await google.colab.kernel.invokeFunction('convertToInteractive',\n",
              "                                                     [key], {});\n",
              "          if (!dataTable) return;\n",
              "\n",
              "          const docLinkHtml = 'Like what you see? Visit the ' +\n",
              "            '<a target=\"_blank\" href=https://colab.research.google.com/notebooks/data_table.ipynb>data table notebook</a>'\n",
              "            + ' to learn more about interactive tables.';\n",
              "          element.innerHTML = '';\n",
              "          dataTable['output_type'] = 'display_data';\n",
              "          await google.colab.output.renderOutput(dataTable, element);\n",
              "          const docLink = document.createElement('div');\n",
              "          docLink.innerHTML = docLinkHtml;\n",
              "          element.appendChild(docLink);\n",
              "        }\n",
              "      </script>\n",
              "    </div>\n",
              "  </div>\n",
              "  "
            ]
          },
          "metadata": {},
          "execution_count": 3
        }
      ]
    },
    {
      "cell_type": "code",
      "source": [
        "data['time'] = pd.to_datetime(data['time'])\n",
        "data.index = data['time']\n",
        "data = data.drop(columns=[\"time\"])\n",
        "data"
      ],
      "metadata": {
        "colab": {
          "base_uri": "https://localhost:8080/",
          "height": 455
        },
        "id": "VWLWwpAIYx4z",
        "outputId": "b480a995-61d4-4ccc-92a7-ab9760f6e7fd"
      },
      "execution_count": 4,
      "outputs": [
        {
          "output_type": "execute_result",
          "data": {
            "text/plain": [
              "                     sensor_data\n",
              "time                            \n",
              "2018-08-12 09:30:00           29\n",
              "2018-08-12 09:30:00           29\n",
              "2018-08-12 09:29:00           41\n",
              "2018-08-12 09:29:00           41\n",
              "2018-08-12 09:29:00           31\n",
              "...                          ...\n",
              "2018-07-28 07:07:00           31\n",
              "2018-07-28 07:07:00           31\n",
              "2018-07-28 07:06:00           31\n",
              "2018-07-28 07:06:00           31\n",
              "2018-07-28 07:06:00           31\n",
              "\n",
              "[97606 rows x 1 columns]"
            ],
            "text/html": [
              "\n",
              "  <div id=\"df-f0a5c373-3b47-45d1-9055-bcf00495c1f5\">\n",
              "    <div class=\"colab-df-container\">\n",
              "      <div>\n",
              "<style scoped>\n",
              "    .dataframe tbody tr th:only-of-type {\n",
              "        vertical-align: middle;\n",
              "    }\n",
              "\n",
              "    .dataframe tbody tr th {\n",
              "        vertical-align: top;\n",
              "    }\n",
              "\n",
              "    .dataframe thead th {\n",
              "        text-align: right;\n",
              "    }\n",
              "</style>\n",
              "<table border=\"1\" class=\"dataframe\">\n",
              "  <thead>\n",
              "    <tr style=\"text-align: right;\">\n",
              "      <th></th>\n",
              "      <th>sensor_data</th>\n",
              "    </tr>\n",
              "    <tr>\n",
              "      <th>time</th>\n",
              "      <th></th>\n",
              "    </tr>\n",
              "  </thead>\n",
              "  <tbody>\n",
              "    <tr>\n",
              "      <th>2018-08-12 09:30:00</th>\n",
              "      <td>29</td>\n",
              "    </tr>\n",
              "    <tr>\n",
              "      <th>2018-08-12 09:30:00</th>\n",
              "      <td>29</td>\n",
              "    </tr>\n",
              "    <tr>\n",
              "      <th>2018-08-12 09:29:00</th>\n",
              "      <td>41</td>\n",
              "    </tr>\n",
              "    <tr>\n",
              "      <th>2018-08-12 09:29:00</th>\n",
              "      <td>41</td>\n",
              "    </tr>\n",
              "    <tr>\n",
              "      <th>2018-08-12 09:29:00</th>\n",
              "      <td>31</td>\n",
              "    </tr>\n",
              "    <tr>\n",
              "      <th>...</th>\n",
              "      <td>...</td>\n",
              "    </tr>\n",
              "    <tr>\n",
              "      <th>2018-07-28 07:07:00</th>\n",
              "      <td>31</td>\n",
              "    </tr>\n",
              "    <tr>\n",
              "      <th>2018-07-28 07:07:00</th>\n",
              "      <td>31</td>\n",
              "    </tr>\n",
              "    <tr>\n",
              "      <th>2018-07-28 07:06:00</th>\n",
              "      <td>31</td>\n",
              "    </tr>\n",
              "    <tr>\n",
              "      <th>2018-07-28 07:06:00</th>\n",
              "      <td>31</td>\n",
              "    </tr>\n",
              "    <tr>\n",
              "      <th>2018-07-28 07:06:00</th>\n",
              "      <td>31</td>\n",
              "    </tr>\n",
              "  </tbody>\n",
              "</table>\n",
              "<p>97606 rows × 1 columns</p>\n",
              "</div>\n",
              "      <button class=\"colab-df-convert\" onclick=\"convertToInteractive('df-f0a5c373-3b47-45d1-9055-bcf00495c1f5')\"\n",
              "              title=\"Convert this dataframe to an interactive table.\"\n",
              "              style=\"display:none;\">\n",
              "        \n",
              "  <svg xmlns=\"http://www.w3.org/2000/svg\" height=\"24px\"viewBox=\"0 0 24 24\"\n",
              "       width=\"24px\">\n",
              "    <path d=\"M0 0h24v24H0V0z\" fill=\"none\"/>\n",
              "    <path d=\"M18.56 5.44l.94 2.06.94-2.06 2.06-.94-2.06-.94-.94-2.06-.94 2.06-2.06.94zm-11 1L8.5 8.5l.94-2.06 2.06-.94-2.06-.94L8.5 2.5l-.94 2.06-2.06.94zm10 10l.94 2.06.94-2.06 2.06-.94-2.06-.94-.94-2.06-.94 2.06-2.06.94z\"/><path d=\"M17.41 7.96l-1.37-1.37c-.4-.4-.92-.59-1.43-.59-.52 0-1.04.2-1.43.59L10.3 9.45l-7.72 7.72c-.78.78-.78 2.05 0 2.83L4 21.41c.39.39.9.59 1.41.59.51 0 1.02-.2 1.41-.59l7.78-7.78 2.81-2.81c.8-.78.8-2.07 0-2.86zM5.41 20L4 18.59l7.72-7.72 1.47 1.35L5.41 20z\"/>\n",
              "  </svg>\n",
              "      </button>\n",
              "      \n",
              "  <style>\n",
              "    .colab-df-container {\n",
              "      display:flex;\n",
              "      flex-wrap:wrap;\n",
              "      gap: 12px;\n",
              "    }\n",
              "\n",
              "    .colab-df-convert {\n",
              "      background-color: #E8F0FE;\n",
              "      border: none;\n",
              "      border-radius: 50%;\n",
              "      cursor: pointer;\n",
              "      display: none;\n",
              "      fill: #1967D2;\n",
              "      height: 32px;\n",
              "      padding: 0 0 0 0;\n",
              "      width: 32px;\n",
              "    }\n",
              "\n",
              "    .colab-df-convert:hover {\n",
              "      background-color: #E2EBFA;\n",
              "      box-shadow: 0px 1px 2px rgba(60, 64, 67, 0.3), 0px 1px 3px 1px rgba(60, 64, 67, 0.15);\n",
              "      fill: #174EA6;\n",
              "    }\n",
              "\n",
              "    [theme=dark] .colab-df-convert {\n",
              "      background-color: #3B4455;\n",
              "      fill: #D2E3FC;\n",
              "    }\n",
              "\n",
              "    [theme=dark] .colab-df-convert:hover {\n",
              "      background-color: #434B5C;\n",
              "      box-shadow: 0px 1px 3px 1px rgba(0, 0, 0, 0.15);\n",
              "      filter: drop-shadow(0px 1px 2px rgba(0, 0, 0, 0.3));\n",
              "      fill: #FFFFFF;\n",
              "    }\n",
              "  </style>\n",
              "\n",
              "      <script>\n",
              "        const buttonEl =\n",
              "          document.querySelector('#df-f0a5c373-3b47-45d1-9055-bcf00495c1f5 button.colab-df-convert');\n",
              "        buttonEl.style.display =\n",
              "          google.colab.kernel.accessAllowed ? 'block' : 'none';\n",
              "\n",
              "        async function convertToInteractive(key) {\n",
              "          const element = document.querySelector('#df-f0a5c373-3b47-45d1-9055-bcf00495c1f5');\n",
              "          const dataTable =\n",
              "            await google.colab.kernel.invokeFunction('convertToInteractive',\n",
              "                                                     [key], {});\n",
              "          if (!dataTable) return;\n",
              "\n",
              "          const docLinkHtml = 'Like what you see? Visit the ' +\n",
              "            '<a target=\"_blank\" href=https://colab.research.google.com/notebooks/data_table.ipynb>data table notebook</a>'\n",
              "            + ' to learn more about interactive tables.';\n",
              "          element.innerHTML = '';\n",
              "          dataTable['output_type'] = 'display_data';\n",
              "          await google.colab.output.renderOutput(dataTable, element);\n",
              "          const docLink = document.createElement('div');\n",
              "          docLink.innerHTML = docLinkHtml;\n",
              "          element.appendChild(docLink);\n",
              "        }\n",
              "      </script>\n",
              "    </div>\n",
              "  </div>\n",
              "  "
            ]
          },
          "metadata": {},
          "execution_count": 4
        }
      ]
    },
    {
      "cell_type": "code",
      "source": [
        "data.index.dtype"
      ],
      "metadata": {
        "colab": {
          "base_uri": "https://localhost:8080/"
        },
        "id": "xLgTs8agYLPW",
        "outputId": "e8dd06ec-6e54-45d9-ff6b-b619924e9ae1"
      },
      "execution_count": 5,
      "outputs": [
        {
          "output_type": "execute_result",
          "data": {
            "text/plain": [
              "dtype('<M8[ns]')"
            ]
          },
          "metadata": {},
          "execution_count": 5
        }
      ]
    },
    {
      "cell_type": "code",
      "source": [
        "data.describe"
      ],
      "metadata": {
        "colab": {
          "base_uri": "https://localhost:8080/"
        },
        "id": "bIEfcrP9ayg4",
        "outputId": "975fab26-766b-4b23-ad46-398faf33ad26"
      },
      "execution_count": 6,
      "outputs": [
        {
          "output_type": "execute_result",
          "data": {
            "text/plain": [
              "<bound method NDFrame.describe of                      sensor_data\n",
              "time                            \n",
              "2018-08-12 09:30:00           29\n",
              "2018-08-12 09:30:00           29\n",
              "2018-08-12 09:29:00           41\n",
              "2018-08-12 09:29:00           41\n",
              "2018-08-12 09:29:00           31\n",
              "...                          ...\n",
              "2018-07-28 07:07:00           31\n",
              "2018-07-28 07:07:00           31\n",
              "2018-07-28 07:06:00           31\n",
              "2018-07-28 07:06:00           31\n",
              "2018-07-28 07:06:00           31\n",
              "\n",
              "[97606 rows x 1 columns]>"
            ]
          },
          "metadata": {},
          "execution_count": 6
        }
      ]
    },
    {
      "metadata": {
        "_uuid": "42f9610cdc94c22a4853d20cf0bb69bd16322b74",
        "id": "Yt-wSdzLTXQU"
      },
      "cell_type": "markdown",
      "source": [
        "Read the txt file. Raw Data has the datetime field split into two different columns so we will merge it into single column  "
      ]
    },
    {
      "metadata": {
        "trusted": true,
        "_uuid": "c7a5fac83ffdefb17a16415df261de044de225cc",
        "colab": {
          "base_uri": "https://localhost:8080/",
          "height": 237
        },
        "id": "xznjFPotTXQV",
        "outputId": "53df5240-40e6-4dd3-a981-4167219bfca3"
      },
      "cell_type": "code",
      "source": [
        "data.head()"
      ],
      "execution_count": 7,
      "outputs": [
        {
          "output_type": "execute_result",
          "data": {
            "text/plain": [
              "                     sensor_data\n",
              "time                            \n",
              "2018-08-12 09:30:00           29\n",
              "2018-08-12 09:30:00           29\n",
              "2018-08-12 09:29:00           41\n",
              "2018-08-12 09:29:00           41\n",
              "2018-08-12 09:29:00           31"
            ],
            "text/html": [
              "\n",
              "  <div id=\"df-6d1189de-40bf-4861-8ca6-b7c43b0ccc14\">\n",
              "    <div class=\"colab-df-container\">\n",
              "      <div>\n",
              "<style scoped>\n",
              "    .dataframe tbody tr th:only-of-type {\n",
              "        vertical-align: middle;\n",
              "    }\n",
              "\n",
              "    .dataframe tbody tr th {\n",
              "        vertical-align: top;\n",
              "    }\n",
              "\n",
              "    .dataframe thead th {\n",
              "        text-align: right;\n",
              "    }\n",
              "</style>\n",
              "<table border=\"1\" class=\"dataframe\">\n",
              "  <thead>\n",
              "    <tr style=\"text-align: right;\">\n",
              "      <th></th>\n",
              "      <th>sensor_data</th>\n",
              "    </tr>\n",
              "    <tr>\n",
              "      <th>time</th>\n",
              "      <th></th>\n",
              "    </tr>\n",
              "  </thead>\n",
              "  <tbody>\n",
              "    <tr>\n",
              "      <th>2018-08-12 09:30:00</th>\n",
              "      <td>29</td>\n",
              "    </tr>\n",
              "    <tr>\n",
              "      <th>2018-08-12 09:30:00</th>\n",
              "      <td>29</td>\n",
              "    </tr>\n",
              "    <tr>\n",
              "      <th>2018-08-12 09:29:00</th>\n",
              "      <td>41</td>\n",
              "    </tr>\n",
              "    <tr>\n",
              "      <th>2018-08-12 09:29:00</th>\n",
              "      <td>41</td>\n",
              "    </tr>\n",
              "    <tr>\n",
              "      <th>2018-08-12 09:29:00</th>\n",
              "      <td>31</td>\n",
              "    </tr>\n",
              "  </tbody>\n",
              "</table>\n",
              "</div>\n",
              "      <button class=\"colab-df-convert\" onclick=\"convertToInteractive('df-6d1189de-40bf-4861-8ca6-b7c43b0ccc14')\"\n",
              "              title=\"Convert this dataframe to an interactive table.\"\n",
              "              style=\"display:none;\">\n",
              "        \n",
              "  <svg xmlns=\"http://www.w3.org/2000/svg\" height=\"24px\"viewBox=\"0 0 24 24\"\n",
              "       width=\"24px\">\n",
              "    <path d=\"M0 0h24v24H0V0z\" fill=\"none\"/>\n",
              "    <path d=\"M18.56 5.44l.94 2.06.94-2.06 2.06-.94-2.06-.94-.94-2.06-.94 2.06-2.06.94zm-11 1L8.5 8.5l.94-2.06 2.06-.94-2.06-.94L8.5 2.5l-.94 2.06-2.06.94zm10 10l.94 2.06.94-2.06 2.06-.94-2.06-.94-.94-2.06-.94 2.06-2.06.94z\"/><path d=\"M17.41 7.96l-1.37-1.37c-.4-.4-.92-.59-1.43-.59-.52 0-1.04.2-1.43.59L10.3 9.45l-7.72 7.72c-.78.78-.78 2.05 0 2.83L4 21.41c.39.39.9.59 1.41.59.51 0 1.02-.2 1.41-.59l7.78-7.78 2.81-2.81c.8-.78.8-2.07 0-2.86zM5.41 20L4 18.59l7.72-7.72 1.47 1.35L5.41 20z\"/>\n",
              "  </svg>\n",
              "      </button>\n",
              "      \n",
              "  <style>\n",
              "    .colab-df-container {\n",
              "      display:flex;\n",
              "      flex-wrap:wrap;\n",
              "      gap: 12px;\n",
              "    }\n",
              "\n",
              "    .colab-df-convert {\n",
              "      background-color: #E8F0FE;\n",
              "      border: none;\n",
              "      border-radius: 50%;\n",
              "      cursor: pointer;\n",
              "      display: none;\n",
              "      fill: #1967D2;\n",
              "      height: 32px;\n",
              "      padding: 0 0 0 0;\n",
              "      width: 32px;\n",
              "    }\n",
              "\n",
              "    .colab-df-convert:hover {\n",
              "      background-color: #E2EBFA;\n",
              "      box-shadow: 0px 1px 2px rgba(60, 64, 67, 0.3), 0px 1px 3px 1px rgba(60, 64, 67, 0.15);\n",
              "      fill: #174EA6;\n",
              "    }\n",
              "\n",
              "    [theme=dark] .colab-df-convert {\n",
              "      background-color: #3B4455;\n",
              "      fill: #D2E3FC;\n",
              "    }\n",
              "\n",
              "    [theme=dark] .colab-df-convert:hover {\n",
              "      background-color: #434B5C;\n",
              "      box-shadow: 0px 1px 3px 1px rgba(0, 0, 0, 0.15);\n",
              "      filter: drop-shadow(0px 1px 2px rgba(0, 0, 0, 0.3));\n",
              "      fill: #FFFFFF;\n",
              "    }\n",
              "  </style>\n",
              "\n",
              "      <script>\n",
              "        const buttonEl =\n",
              "          document.querySelector('#df-6d1189de-40bf-4861-8ca6-b7c43b0ccc14 button.colab-df-convert');\n",
              "        buttonEl.style.display =\n",
              "          google.colab.kernel.accessAllowed ? 'block' : 'none';\n",
              "\n",
              "        async function convertToInteractive(key) {\n",
              "          const element = document.querySelector('#df-6d1189de-40bf-4861-8ca6-b7c43b0ccc14');\n",
              "          const dataTable =\n",
              "            await google.colab.kernel.invokeFunction('convertToInteractive',\n",
              "                                                     [key], {});\n",
              "          if (!dataTable) return;\n",
              "\n",
              "          const docLinkHtml = 'Like what you see? Visit the ' +\n",
              "            '<a target=\"_blank\" href=https://colab.research.google.com/notebooks/data_table.ipynb>data table notebook</a>'\n",
              "            + ' to learn more about interactive tables.';\n",
              "          element.innerHTML = '';\n",
              "          dataTable['output_type'] = 'display_data';\n",
              "          await google.colab.output.renderOutput(dataTable, element);\n",
              "          const docLink = document.createElement('div');\n",
              "          docLink.innerHTML = docLinkHtml;\n",
              "          element.appendChild(docLink);\n",
              "        }\n",
              "      </script>\n",
              "    </div>\n",
              "  </div>\n",
              "  "
            ]
          },
          "metadata": {},
          "execution_count": 7
        }
      ]
    },
    {
      "metadata": {
        "trusted": true,
        "_uuid": "546fd6ab22de6347af37932e141894ae8a2f4744",
        "colab": {
          "base_uri": "https://localhost:8080/",
          "height": 300
        },
        "id": "NrtPZfo-TXQV",
        "outputId": "c5210b17-5593-4ad7-bff2-cd5eaceb23eb"
      },
      "cell_type": "code",
      "source": [
        "data.describe()"
      ],
      "execution_count": 8,
      "outputs": [
        {
          "output_type": "execute_result",
          "data": {
            "text/plain": [
              "        sensor_data\n",
              "count  97606.000000\n",
              "mean      35.053931\n",
              "std        5.699825\n",
              "min       21.000000\n",
              "25%       30.000000\n",
              "50%       35.000000\n",
              "75%       40.000000\n",
              "max       51.000000"
            ],
            "text/html": [
              "\n",
              "  <div id=\"df-9cc4cf60-b39a-41ef-b0a6-b000ab1b7808\">\n",
              "    <div class=\"colab-df-container\">\n",
              "      <div>\n",
              "<style scoped>\n",
              "    .dataframe tbody tr th:only-of-type {\n",
              "        vertical-align: middle;\n",
              "    }\n",
              "\n",
              "    .dataframe tbody tr th {\n",
              "        vertical-align: top;\n",
              "    }\n",
              "\n",
              "    .dataframe thead th {\n",
              "        text-align: right;\n",
              "    }\n",
              "</style>\n",
              "<table border=\"1\" class=\"dataframe\">\n",
              "  <thead>\n",
              "    <tr style=\"text-align: right;\">\n",
              "      <th></th>\n",
              "      <th>sensor_data</th>\n",
              "    </tr>\n",
              "  </thead>\n",
              "  <tbody>\n",
              "    <tr>\n",
              "      <th>count</th>\n",
              "      <td>97606.000000</td>\n",
              "    </tr>\n",
              "    <tr>\n",
              "      <th>mean</th>\n",
              "      <td>35.053931</td>\n",
              "    </tr>\n",
              "    <tr>\n",
              "      <th>std</th>\n",
              "      <td>5.699825</td>\n",
              "    </tr>\n",
              "    <tr>\n",
              "      <th>min</th>\n",
              "      <td>21.000000</td>\n",
              "    </tr>\n",
              "    <tr>\n",
              "      <th>25%</th>\n",
              "      <td>30.000000</td>\n",
              "    </tr>\n",
              "    <tr>\n",
              "      <th>50%</th>\n",
              "      <td>35.000000</td>\n",
              "    </tr>\n",
              "    <tr>\n",
              "      <th>75%</th>\n",
              "      <td>40.000000</td>\n",
              "    </tr>\n",
              "    <tr>\n",
              "      <th>max</th>\n",
              "      <td>51.000000</td>\n",
              "    </tr>\n",
              "  </tbody>\n",
              "</table>\n",
              "</div>\n",
              "      <button class=\"colab-df-convert\" onclick=\"convertToInteractive('df-9cc4cf60-b39a-41ef-b0a6-b000ab1b7808')\"\n",
              "              title=\"Convert this dataframe to an interactive table.\"\n",
              "              style=\"display:none;\">\n",
              "        \n",
              "  <svg xmlns=\"http://www.w3.org/2000/svg\" height=\"24px\"viewBox=\"0 0 24 24\"\n",
              "       width=\"24px\">\n",
              "    <path d=\"M0 0h24v24H0V0z\" fill=\"none\"/>\n",
              "    <path d=\"M18.56 5.44l.94 2.06.94-2.06 2.06-.94-2.06-.94-.94-2.06-.94 2.06-2.06.94zm-11 1L8.5 8.5l.94-2.06 2.06-.94-2.06-.94L8.5 2.5l-.94 2.06-2.06.94zm10 10l.94 2.06.94-2.06 2.06-.94-2.06-.94-.94-2.06-.94 2.06-2.06.94z\"/><path d=\"M17.41 7.96l-1.37-1.37c-.4-.4-.92-.59-1.43-.59-.52 0-1.04.2-1.43.59L10.3 9.45l-7.72 7.72c-.78.78-.78 2.05 0 2.83L4 21.41c.39.39.9.59 1.41.59.51 0 1.02-.2 1.41-.59l7.78-7.78 2.81-2.81c.8-.78.8-2.07 0-2.86zM5.41 20L4 18.59l7.72-7.72 1.47 1.35L5.41 20z\"/>\n",
              "  </svg>\n",
              "      </button>\n",
              "      \n",
              "  <style>\n",
              "    .colab-df-container {\n",
              "      display:flex;\n",
              "      flex-wrap:wrap;\n",
              "      gap: 12px;\n",
              "    }\n",
              "\n",
              "    .colab-df-convert {\n",
              "      background-color: #E8F0FE;\n",
              "      border: none;\n",
              "      border-radius: 50%;\n",
              "      cursor: pointer;\n",
              "      display: none;\n",
              "      fill: #1967D2;\n",
              "      height: 32px;\n",
              "      padding: 0 0 0 0;\n",
              "      width: 32px;\n",
              "    }\n",
              "\n",
              "    .colab-df-convert:hover {\n",
              "      background-color: #E2EBFA;\n",
              "      box-shadow: 0px 1px 2px rgba(60, 64, 67, 0.3), 0px 1px 3px 1px rgba(60, 64, 67, 0.15);\n",
              "      fill: #174EA6;\n",
              "    }\n",
              "\n",
              "    [theme=dark] .colab-df-convert {\n",
              "      background-color: #3B4455;\n",
              "      fill: #D2E3FC;\n",
              "    }\n",
              "\n",
              "    [theme=dark] .colab-df-convert:hover {\n",
              "      background-color: #434B5C;\n",
              "      box-shadow: 0px 1px 3px 1px rgba(0, 0, 0, 0.15);\n",
              "      filter: drop-shadow(0px 1px 2px rgba(0, 0, 0, 0.3));\n",
              "      fill: #FFFFFF;\n",
              "    }\n",
              "  </style>\n",
              "\n",
              "      <script>\n",
              "        const buttonEl =\n",
              "          document.querySelector('#df-9cc4cf60-b39a-41ef-b0a6-b000ab1b7808 button.colab-df-convert');\n",
              "        buttonEl.style.display =\n",
              "          google.colab.kernel.accessAllowed ? 'block' : 'none';\n",
              "\n",
              "        async function convertToInteractive(key) {\n",
              "          const element = document.querySelector('#df-9cc4cf60-b39a-41ef-b0a6-b000ab1b7808');\n",
              "          const dataTable =\n",
              "            await google.colab.kernel.invokeFunction('convertToInteractive',\n",
              "                                                     [key], {});\n",
              "          if (!dataTable) return;\n",
              "\n",
              "          const docLinkHtml = 'Like what you see? Visit the ' +\n",
              "            '<a target=\"_blank\" href=https://colab.research.google.com/notebooks/data_table.ipynb>data table notebook</a>'\n",
              "            + ' to learn more about interactive tables.';\n",
              "          element.innerHTML = '';\n",
              "          dataTable['output_type'] = 'display_data';\n",
              "          await google.colab.output.renderOutput(dataTable, element);\n",
              "          const docLink = document.createElement('div');\n",
              "          docLink.innerHTML = docLinkHtml;\n",
              "          element.appendChild(docLink);\n",
              "        }\n",
              "      </script>\n",
              "    </div>\n",
              "  </div>\n",
              "  "
            ]
          },
          "metadata": {},
          "execution_count": 8
        }
      ]
    },
    {
      "metadata": {
        "_uuid": "d87ce443e02cc2b8f174f87688ba74c40246033c",
        "id": "6eb8TgLATXQW"
      },
      "cell_type": "markdown",
      "source": [
        "**2. Data Preprocessing **\n",
        "\n",
        "Do we have any missing values? Do we need all the columns?"
      ]
    },
    {
      "metadata": {
        "trusted": true,
        "_uuid": "c85384b8b63131922103ccbea0fa301785af613a",
        "colab": {
          "base_uri": "https://localhost:8080/"
        },
        "id": "16KkCEvDTXQX",
        "outputId": "30af698e-35ec-4e99-aaeb-571fb4eb4aa3"
      },
      "cell_type": "code",
      "source": [
        "## finding all columns that have nan:\n",
        "data.columns[data.isnull().any()]"
      ],
      "execution_count": 9,
      "outputs": [
        {
          "output_type": "execute_result",
          "data": {
            "text/plain": [
              "Index([], dtype='object')"
            ]
          },
          "metadata": {},
          "execution_count": 9
        }
      ]
    },
    {
      "metadata": {
        "_uuid": "e172382ac4b6c1711b3f4b95a2684202ce03bede",
        "id": "vZaWq4ekTXQX"
      },
      "cell_type": "markdown",
      "source": [
        "Its important to clean the data and treat missing values. But filling in  with mean or zeros can skew the model a lot espeically for fields with high variance. \n",
        "So First step before filling in the missing values is to check linearity and variation in data. This problem is more tricky than it sounds as ideally for any time series, \n",
        "we would like to decompose it to see the trend and seasonality. But this tutorial is limited to providing a general workflow for LSTM based forecasting.\n",
        "\n",
        "Below, we get a plot of how autocorelation of different signals change with lag to better model the imputation"
      ]
    },
    {
      "metadata": {
        "trusted": true,
        "_uuid": "c9fc881d524014bc47b4582738dda98e92350099",
        "colab": {
          "base_uri": "https://localhost:8080/",
          "height": 283
        },
        "id": "kFqXj8Y-TXQY",
        "outputId": "d894a17e-3689-4d62-eb25-e9e7022d78a2"
      },
      "cell_type": "code",
      "source": [
        "#To fill in missing values, first check for linearity in each column using autocorelation plots\n",
        "def get_acf(data,lags): \n",
        "    frame = []\n",
        "    for i in range(lags+1):\n",
        "        frame.append(data.apply(lambda col: col.autocorr(i), axis=0))\n",
        "    return pd.DataFrame(frame).plot.line()\n",
        "get_acf(data,1)"
      ],
      "execution_count": 10,
      "outputs": [
        {
          "output_type": "execute_result",
          "data": {
            "text/plain": [
              "<matplotlib.axes._subplots.AxesSubplot at 0x7f704f125310>"
            ]
          },
          "metadata": {},
          "execution_count": 10
        },
        {
          "output_type": "display_data",
          "data": {
            "text/plain": [
              "<Figure size 432x288 with 1 Axes>"
            ],
            "image/png": "[encoded data removed]"
          },
          "metadata": {
            "needs_background": "light"
          }
        }
      ]
    },
    {
      "metadata": {
        "_uuid": "6c13dbaffa76f1f5d9197aa4ef5c90909d6a2282",
        "id": "hwozij3rTXQZ"
      },
      "cell_type": "markdown",
      "source": [
        "Seems like acfs start dropping after 10 lags for majority of signals. So lets do linear interpolation but with a limit of 10 "
      ]
    },
    {
      "metadata": {
        "trusted": true,
        "_uuid": "dab42b30458a94cd22f20f00a7ebb92551f18158",
        "id": "KuGwRfAUTXQZ"
      },
      "cell_type": "code",
      "source": [
        "#fill in missing values using linear interpolation with limit to 10 using autocorelation plot\n",
        "clean_data = data.interpolate(method = 'linear', axis = 0, limit = 10)\n"
      ],
      "execution_count": 11,
      "outputs": []
    },
    {
      "metadata": {
        "_uuid": "5d2d650229b60cc765e67a93721068b7661f4a48",
        "id": "DCYRHTKuTXQZ"
      },
      "cell_type": "markdown",
      "source": [
        "Now, the data is aggregated every minute. Do we need that? Maybe not, we can do corelation plots of different aggregations to see how data change. But first lets do quick charting per day."
      ]
    },
    {
      "metadata": {
        "trusted": true,
        "_uuid": "cfc971ee43bc772a4dcc7cd0df6e8f2276ddab38",
        "colab": {
          "base_uri": "https://localhost:8080/",
          "height": 881
        },
        "id": "eGbEm043TXQa",
        "outputId": "e2c8f57f-ddaa-4413-edcc-fae321486d16"
      },
      "cell_type": "code",
      "source": [
        "#Its imperative from autocorealtion plots that we dont need each minute data, perhaps we can decide roll up the aggregate\n",
        "i = 1\n",
        "# plot each column\n",
        "plt.figure(figsize=(20, 15))\n",
        "print(clean_data.columns)\n",
        "for counter in range(1):\n",
        "    plt.subplot(1, 1, i)\n",
        "    plt.plot(clean_data.resample('D').mean().values[:, counter], color = 'blue')\n",
        "    plt.title(clean_data.columns[counter], y=0.8, loc='right')\n",
        "    i = i+1\n",
        "plt.show()"
      ],
      "execution_count": 12,
      "outputs": [
        {
          "output_type": "stream",
          "name": "stdout",
          "text": [
            "Index(['sensor_data'], dtype='object')\n"
          ]
        },
        {
          "output_type": "display_data",
          "data": {
            "text/plain": [
              "<Figure size 1440x1080 with 1 Axes>"
            ],
            "image/png": "[encoded data removed]"
          },
          "metadata": {
            "needs_background": "light"
          }
        }
      ]
    },
    {
      "metadata": {
        "trusted": true,
        "_uuid": "a8e2b8bbd51680dcb1ff4b0a8dcf1dd1898ce8ad",
        "id": "klqO8IGGTXQc"
      },
      "cell_type": "code",
      "source": [
        "#Credit: Adopted from https://machinelearningmastery.com/convert-time-series-supervised-learning-problem-python/\n",
        "def series_to_supervised(data, n_in=1, n_out=1, dropnan=True):\n",
        "    n_vars = 1 if type(data) is list else data.shape[1]\n",
        "    dff = pd.DataFrame(data)\n",
        "    cols, names = list(), list()\n",
        "    # input sequence (t-n, ... t-1)\n",
        "    for i in range(n_in, 0, -1):\n",
        "        cols.append(dff.shift(i))\n",
        "        names += [('var%d(t-%d)' % (j+1, i)) for j in range(n_vars)]\n",
        "    # forecast sequence (t, t+1, ... t+n)\n",
        "    for i in range(0, n_out):\n",
        "        cols.append(dff.shift(-i))\n",
        "        if i == 0:\n",
        "            names += [('var%d(t)' % (j+1)) for j in range(n_vars)]\n",
        "        else:\n",
        "            names += [('var%d(t+%d)' % (j+1, i)) for j in range(n_vars)]\n",
        "    # put it all together\n",
        "    agg = pd.concat(cols, axis=1)\n",
        "    agg.columns = names\n",
        "    # drop rows with NaN values\n",
        "    if dropnan:\n",
        "        agg.dropna(inplace=True)\n",
        "    return agg"
      ],
      "execution_count": 13,
      "outputs": []
    },
    {
      "metadata": {
        "_uuid": "0a7aaf08b0a3da03d5030c85dd6304dd2dc8c56a",
        "id": "soPDLHsATXQc"
      },
      "cell_type": "markdown",
      "source": [
        "**3. Problem formulation and training LSTM**"
      ]
    },
    {
      "metadata": {
        "trusted": true,
        "_uuid": "95343321908f0588e2eda2aecb7369d0a35259c1",
        "colab": {
          "base_uri": "https://localhost:8080/"
        },
        "id": "tRN_4LGNTXQc",
        "outputId": "cfc470f1-a54d-4fbc-9178-902673e27997"
      },
      "cell_type": "code",
      "source": [
        "#framing the problem\n",
        "#resample over day\n",
        "\n",
        "## resampling of data over hour\n",
        "resampled_data = clean_data.resample('H').mean() \n",
        "resampled_data.shape"
      ],
      "execution_count": 14,
      "outputs": [
        {
          "output_type": "execute_result",
          "data": {
            "text/plain": [
              "(8016, 1)"
            ]
          },
          "metadata": {},
          "execution_count": 14
        }
      ]
    },
    {
      "metadata": {
        "_uuid": "ed8202c7ec5428991ca0427ae68f9a5d87437f14",
        "id": "ezB3e_T2TXQc"
      },
      "cell_type": "markdown",
      "source": [
        "Now before moving forward, I would like to point out that you could potentially normalise the data in the data preprocessign phase and later decode it, i have left it out intentionally here as it made no difference in results."
      ]
    },
    {
      "metadata": {
        "trusted": true,
        "_uuid": "e67e416666c02d0fc09490f4f89f4b7af9ad94d1",
        "colab": {
          "base_uri": "https://localhost:8080/"
        },
        "id": "5bDBYN35TXQd",
        "outputId": "70628bb8-a4ca-4096-bab0-e091e4b11d97"
      },
      "cell_type": "code",
      "source": [
        "# Feature engineering for LSTM\n",
        "reframed_data = series_to_supervised(clean_data, 1, 1)\n",
        "print(reframed_data.head())"
      ],
      "execution_count": 15,
      "outputs": [
        {
          "output_type": "stream",
          "name": "stdout",
          "text": [
            "                     var1(t-1)  var1(t)\n",
            "time                                   \n",
            "2018-08-12 09:30:00       29.0       29\n",
            "2018-08-12 09:29:00       29.0       41\n",
            "2018-08-12 09:29:00       41.0       41\n",
            "2018-08-12 09:29:00       41.0       31\n",
            "2018-08-12 09:29:00       31.0       31\n"
          ]
        }
      ]
    },
    {
      "metadata": {
        "trusted": true,
        "_uuid": "a2b30b807798e2d7442ccdc097105e21f9b9fb9d",
        "colab": {
          "base_uri": "https://localhost:8080/"
        },
        "id": "G4jTZFSOTXQd",
        "outputId": "a2318940-96b4-4137-f668-d32431a58cfb"
      },
      "cell_type": "code",
      "source": [
        "# split into train and test sets\n",
        "# 3020\n",
        "values = reframed_data.values\n",
        "train_index = 68324 #The logic is to have 500 days worth of training data. this could also be a hyperparameter that can be tuned.\n",
        "train = values[:train_index, :]\n",
        "test = values[train_index:, :]\n",
        "# split into input and outputs\n",
        "train_X, train_y = train[:, :-1], train[:, -1]\n",
        "test_X, test_y = test[:, :-1], test[:, -1]\n",
        "# reshape input to be 3D [samples, timesteps, features]\n",
        "train_X = train_X.reshape((train_X.shape[0], 1, train_X.shape[1]))\n",
        "test_X = test_X.reshape((test_X.shape[0], 1, test_X.shape[1]))\n",
        "print(train_X.shape, train_y.shape, test_X.shape, test_y.shape) \n",
        "# We reshaped the input into the 3D format as expected by LSTMs, namely [samples, timesteps, features]."
      ],
      "execution_count": 16,
      "outputs": [
        {
          "output_type": "stream",
          "name": "stdout",
          "text": [
            "(68324, 1, 1) (68324,) (29281, 1, 1) (29281,)\n"
          ]
        }
      ]
    },
    {
      "metadata": {
        "_uuid": "c75ea70498bdcf1704d7ca82cc96f1bbd0e2d2e9",
        "id": "mmOFzyWOTXQd"
      },
      "cell_type": "markdown",
      "source": [
        "This problem is mapped as many to one with stacked LSTMs with dropouts to control fitting. Loss is measured in MSE and optimised using adam optimizer.\n",
        "Hyperparameter tuning: Technically I should be doing a grid/bayesian/random search on parameters like number of nuerons, dropouts, etc and get the parameters with least MSE. Beyond scope of this notebook."
      ]
    },
    {
      "metadata": {
        "trusted": true,
        "_uuid": "fa689cf99902f28a75104b84d6207d43701204be",
        "colab": {
          "base_uri": "https://localhost:8080/",
          "height": 651
        },
        "id": "TvIfztSxTXQd",
        "outputId": "9d6ab524-aba4-4c7a-8da3-a70a9a4c4729"
      },
      "cell_type": "code",
      "source": [
        "model = Sequential()\n",
        "model.add(LSTM(100, return_sequences=True, input_shape=(train_X.shape[1], train_X.shape[2])))\n",
        "model.add(Dropout(0.2))\n",
        "model.add(LSTM(50))\n",
        "model.add(Dropout(0.1))\n",
        "model.add(Dense(1))\n",
        "model.compile(loss='mean_squared_error', optimizer='adam')\n",
        "# fit network\n",
        "history = model.fit(train_X, train_y, epochs=10, batch_size=20, validation_data=(test_X, test_y), verbose=1, shuffle=False)\n",
        "# summarize history for loss\n",
        "plt.plot(history.history['loss'])\n",
        "# plt.plot(history.history['val_loss'])\n",
        "plt.title('model loss')\n",
        "plt.ylabel('loss')\n",
        "plt.xlabel('epoch')\n",
        "plt.legend(['train', 'test'], loc='upper right')\n",
        "plt.show()"
      ],
      "execution_count": 17,
      "outputs": [
        {
          "output_type": "stream",
          "name": "stdout",
          "text": [
            "Epoch 1/10\n",
            "3417/3417 [==============================] - 26s 6ms/step - loss: 85.4466 - val_loss: 6.0892\n",
            "Epoch 2/10\n",
            "3417/3417 [==============================] - 18s 5ms/step - loss: 16.4314 - val_loss: 5.9078\n",
            "Epoch 3/10\n",
            "3417/3417 [==============================] - 18s 5ms/step - loss: 15.8353 - val_loss: 5.7168\n",
            "Epoch 4/10\n",
            "3417/3417 [==============================] - 19s 6ms/step - loss: 15.4428 - val_loss: 5.6060\n",
            "Epoch 5/10\n",
            "3417/3417 [==============================] - 19s 5ms/step - loss: 15.4102 - val_loss: 5.9340\n",
            "Epoch 6/10\n",
            "3417/3417 [==============================] - 19s 6ms/step - loss: 15.2409 - val_loss: 6.1426\n",
            "Epoch 7/10\n",
            "3417/3417 [==============================] - 19s 5ms/step - loss: 15.3516 - val_loss: 6.6732\n",
            "Epoch 8/10\n",
            "3417/3417 [==============================] - 19s 5ms/step - loss: 15.0962 - val_loss: 6.0982\n",
            "Epoch 9/10\n",
            "3417/3417 [==============================] - 18s 5ms/step - loss: 14.9464 - val_loss: 6.4414\n",
            "Epoch 10/10\n",
            "3417/3417 [==============================] - 18s 5ms/step - loss: 14.6904 - val_loss: 6.1665\n"
          ]
        },
        {
          "output_type": "display_data",
          "data": {
            "text/plain": [
              "<Figure size 432x288 with 1 Axes>"
            ],
            "image/png": "[encoded data removed]"
          },
          "metadata": {
            "needs_background": "light"
          }
        }
      ]
    },
    {
      "metadata": {
        "trusted": true,
        "_uuid": "506b325d57c5df7b40706eac4dce15151ff35457",
        "colab": {
          "base_uri": "https://localhost:8080/"
        },
        "id": "Hk_0peKkTXQd",
        "outputId": "2fed224d-5088-45fd-94cf-e15f9cd4a590"
      },
      "cell_type": "code",
      "source": [
        "# make a prediction\n",
        "yhat = model.predict(test_X, verbose=0)\n",
        "rmse = np.sqrt(mean_squared_error(test_y, yhat))\n",
        "print('Test RMSE: %.3f' % rmse)"
      ],
      "execution_count": 18,
      "outputs": [
        {
          "output_type": "stream",
          "name": "stdout",
          "text": [
            "Test RMSE: 2.483\n"
          ]
        }
      ]
    },
    {
      "metadata": {
        "_uuid": "12e692c5a7c3fca8642eaeee7d58c664719a03a3",
        "id": "JU1wkh_sTXQd"
      },
      "cell_type": "markdown",
      "source": [
        "Plot Actual vs Predicted"
      ]
    },
    {
      "metadata": {
        "trusted": true,
        "_uuid": "5bf9255b20bd35d0e4481967ad50eb270cf21819",
        "colab": {
          "base_uri": "https://localhost:8080/",
          "height": 284
        },
        "id": "YT9P9PSiTXQd",
        "outputId": "1d9b6e0b-b2f3-4801-a44a-c124fb97ca7a"
      },
      "cell_type": "code",
      "source": [
        "## time steps, every step is one hour (you can easily convert the time step to the actual time index)\n",
        "## for a demonstration purpose, I only compare the predictions in 200 hours. \n",
        "\n",
        "aa=[x for x in range(200)]\n",
        "plt.plot(aa, test_y[:200], marker='.', label=\"actual\")\n",
        "plt.plot(aa, yhat[:200], 'r', label=\"prediction\")\n",
        "plt.ylabel('sensor_data', size=15)\n",
        "plt.xlabel('Time', size=15)\n",
        "plt.legend(fontsize=13)\n",
        "plt.show()"
      ],
      "execution_count": 19,
      "outputs": [
        {
          "output_type": "display_data",
          "data": {
            "text/plain": [
              "<Figure size 432x288 with 1 Axes>"
            ],
            "image/png": "[encoded data removed]"
          },
          "metadata": {
            "needs_background": "light"
          }
        }
      ]
    }
  ],
  "metadata": {
    "kernelspec": {
      "display_name": "Python 3",
      "language": "python",
      "name": "python3"
    },
    "language_info": {
      "name": "python",
      "version": "3.6.6",
      "mimetype": "text/x-python",
      "codemirror_mode": {
        "name": "ipython",
        "version": 3
      },
      "pygments_lexer": "ipython3",
      "nbconvert_exporter": "python",
      "file_extension": ".py"
    },
    "colab": {
      "name": "DSProject.ipynb",
      "provenance": [],
      "collapsed_sections": []
    }
  },
  "nbformat": 4,
  "nbformat_minor": 0
}